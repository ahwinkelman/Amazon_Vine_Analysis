{
  "nbformat": 4,
  "nbformat_minor": 0,
  "metadata": {
    "colab": {
      "provenance": [],
      "authorship_tag": "ABX9TyNsipX5F0jQbaT9j02wnSIq",
      "include_colab_link": true
    },
    "kernelspec": {
      "name": "python3",
      "display_name": "Python 3"
    },
    "language_info": {
      "name": "python"
    }
  },
  "cells": [
    {
      "cell_type": "markdown",
      "metadata": {
        "id": "view-in-github",
        "colab_type": "text"
      },
      "source": [
        "<a href=\"https://colab.research.google.com/github/ahwinkelman/Amazon_Vine_Analysis/blob/main/Vine_review_Analysis.ipynb\" target=\"_parent\"><img src=\"https://colab.research.google.com/assets/colab-badge.svg\" alt=\"Open In Colab\"/></a>"
      ]
    },
    {
      "cell_type": "code",
      "execution_count": 3,
      "metadata": {
        "colab": {
          "base_uri": "https://localhost:8080/"
        },
        "id": "LKuec90wQJ3Q",
        "outputId": "a0ead2c5-31c2-402f-df4a-1c8189b97d0c"
      },
      "outputs": [
        {
          "output_type": "stream",
          "name": "stdout",
          "text": [
            "\r0% [Working]\r            \rIgn:1 https://developer.download.nvidia.com/compute/machine-learning/repos/ubuntu1804/x86_64  InRelease\n",
            "\r0% [Connecting to archive.ubuntu.com (91.189.91.38)] [Connecting to security.ub\r                                                                               \rHit:2 https://cloud.r-project.org/bin/linux/ubuntu bionic-cran40/ InRelease\n",
            "\r0% [Connecting to archive.ubuntu.com (91.189.91.38)] [Connecting to security.ub\r                                                                               \rHit:3 https://developer.download.nvidia.com/compute/cuda/repos/ubuntu1804/x86_64  InRelease\n",
            "\r0% [Waiting for headers] [Connecting to security.ubuntu.com (185.125.190.36)] [\r0% [2 InRelease gpgv 3,626 B] [Waiting for headers] [Connecting to security.ubu\r                                                                               \rHit:4 https://developer.download.nvidia.com/compute/machine-learning/repos/ubuntu1804/x86_64  Release\n",
            "\r0% [2 InRelease gpgv 3,626 B] [Waiting for headers] [Connecting to security.ubu\r                                                                               \rHit:5 http://archive.ubuntu.com/ubuntu bionic InRelease\n",
            "\r0% [2 InRelease gpgv 3,626 B] [Waiting for headers] [Connecting to security.ubu\r                                                                               \rHit:6 http://archive.ubuntu.com/ubuntu bionic-updates InRelease\n",
            "Hit:7 http://archive.ubuntu.com/ubuntu bionic-backports InRelease\n",
            "Hit:8 http://security.ubuntu.com/ubuntu bionic-security InRelease\n",
            "Hit:9 http://ppa.launchpad.net/c2d4u.team/c2d4u4.0+/ubuntu bionic InRelease\n",
            "Hit:11 http://ppa.launchpad.net/cran/libgit2/ubuntu bionic InRelease\n",
            "Hit:12 http://ppa.launchpad.net/deadsnakes/ppa/ubuntu bionic InRelease\n",
            "Hit:13 http://ppa.launchpad.net/graphics-drivers/ppa/ubuntu bionic InRelease\n",
            "Reading package lists... Done\n"
          ]
        }
      ],
      "source": [
        "import os\n",
        "# Find the latest version of spark 3.0 from http://www.apache.org/dist/spark/ and enter as the spark version\n",
        "# For example:\n",
        "# spark_version = 'spark-3.0.3'\n",
        "spark_version = 'spark-3.1.3'\n",
        "os.environ['SPARK_VERSION']=spark_version\n",
        "\n",
        "# Install Spark and Java\n",
        "!apt-get update\n",
        "!apt-get install openjdk-11-jdk-headless -qq > /dev/null\n",
        "!wget -q http://www.apache.org/dist/spark/$SPARK_VERSION/$SPARK_VERSION-bin-hadoop2.7.tgz\n",
        "!tar xf $SPARK_VERSION-bin-hadoop2.7.tgz\n",
        "!pip install -q findspark\n",
        "\n",
        "# Set Environment Variables\n",
        "import os\n",
        "os.environ[\"JAVA_HOME\"] = \"/usr/lib/jvm/java-11-openjdk-amd64\"\n",
        "os.environ[\"SPARK_HOME\"] = f\"/content/{spark_version}-bin-hadoop2.7\"\n",
        "\n",
        "# Start a SparkSession\n",
        "import findspark\n",
        "findspark.init()"
      ]
    },
    {
      "cell_type": "code",
      "source": [
        "from pyspark.sql import SparkSession\n",
        "spark = SparkSession.builder.appName(\"BigData-Challenge\").getOrCreate()"
      ],
      "metadata": {
        "id": "wyHlwV-HQSCR"
      },
      "execution_count": 4,
      "outputs": []
    },
    {
      "cell_type": "code",
      "source": [
        "from pyspark import SparkFiles\n",
        "url = \"https://s3.amazonaws.com/amazon-reviews-pds/tsv/amazon_reviews_us_Electronics_v1_00.tsv.gz\"\n",
        "spark.sparkContext.addFile(url)\n",
        "df = spark.read.option(\"encoding\", \"UTF-8\").csv(SparkFiles.get(\"amazon_reviews_us_Electronics_v1_00.tsv.gz\"), sep=\"\\t\", header=True, inferSchema=True)\n",
        "df.show()"
      ],
      "metadata": {
        "colab": {
          "base_uri": "https://localhost:8080/"
        },
        "id": "qVTqjMc8Q8ng",
        "outputId": "8c87d843-73c4-47c1-9213-fde033f8894d"
      },
      "execution_count": 5,
      "outputs": [
        {
          "output_type": "stream",
          "name": "stdout",
          "text": [
            "+-----------+-----------+--------------+----------+--------------+--------------------+----------------+-----------+-------------+-----------+----+-----------------+--------------------+--------------------+-----------+\n",
            "|marketplace|customer_id|     review_id|product_id|product_parent|       product_title|product_category|star_rating|helpful_votes|total_votes|vine|verified_purchase|     review_headline|         review_body|review_date|\n",
            "+-----------+-----------+--------------+----------+--------------+--------------------+----------------+-----------+-------------+-----------+----+-----------------+--------------------+--------------------+-----------+\n",
            "|         US|   41409413|R2MTG1GCZLR2DK|B00428R89M|     112201306|yoomall 5M Antenn...|     Electronics|          5|            0|          0|   N|                Y|          Five Stars|       As described.| 2015-08-31|\n",
            "|         US|   49668221|R2HBOEM8LE9928|B000068O48|     734576678|Hosa GPM-103 3.5m...|     Electronics|          5|            0|          0|   N|                Y|It works as adver...|It works as adver...| 2015-08-31|\n",
            "|         US|   12338275|R1P4RW1R9FDPEE|B000GGKOG8|     614448099|Channel Master Ti...|     Electronics|          5|            1|          1|   N|                Y|          Five Stars|         Works pissa| 2015-08-31|\n",
            "|         US|   38487968|R1EBPM82ENI67M|B000NU4OTA|      72265257|LIMTECH Wall char...|     Electronics|          1|            0|          0|   N|                Y|            One Star|Did not work at all.| 2015-08-31|\n",
            "|         US|   23732619|R372S58V6D11AT|B00JOQIO6S|     308169188|Skullcandy Air Ra...|     Electronics|          5|            1|          1|   N|                Y|Overall pleased w...|Works well. Bass ...| 2015-08-31|\n",
            "|         US|   21257820|R1A4514XOYI1PD|B008NCD2LG|     976385982|Pioneer SP-BS22-L...|     Electronics|          5|            1|          1|   N|                Y|          Five Stars|The quality on th...| 2015-08-31|\n",
            "|         US|    3084991|R20D9EHB7N20V6|B00007FGUF|     670878953|C2G/Cables to Go ...|     Electronics|          5|            0|          0|   N|                Y|           Lifesaver|Wish I could give...| 2015-08-31|\n",
            "|         US|    8153674|R1WUTD8MVSROJU|B00M9V2RMM|     508452933|COOLEAD-HDMI Swit...|     Electronics|          5|            0|          0|   N|                Y|          Five Stars|         works great| 2015-08-31|\n",
            "|         US|   52246189|R1QCYLT25812DM|B00J3O9DYI|     766372886|Philips Wireless ...|     Electronics|          4|            0|          0|   N|                Y|          Four Stars|Great sound and c...| 2015-08-31|\n",
            "|         US|   41463864| R904DQPBCEM7A|B00NS1A0E4|     458130381|PlayStation 3 3D ...|     Electronics|          4|            0|          0|   N|                Y|          Four Stars|    It works well~~~| 2015-08-31|\n",
            "|         US|    2781942|R1DGA6UQIVLKZ7|B007B5V092|     152891509|JVC HAFR201A Xtre...|     Electronics|          5|            0|          0|   N|                Y|          Five Stars|           Alll good| 2015-08-31|\n",
            "|         US|     707292| RLQT3V8SMNIBH|B00IODHGVG|     717335277|Sylvania Alarm Cl...|     Electronics|          5|            0|          0|   N|                Y|          Five Stars|Love clock radio ...| 2015-08-31|\n",
            "|         US|   31463514|R3T9GZS2TMXZGM|B0035PBHX6|     249533961|Coby 8 GB 1.8-Inc...|     Electronics|          1|            0|          0|   N|                Y|            One Star|Breaks very easil...| 2015-08-31|\n",
            "|         US|   33475055|R24HVAEYP5PLDN|B00K1JJWFO|     635791633|Diamond (Original...|     Electronics|          5|            0|          1|   N|                Y|          Five Stars|Excellent gain in...| 2015-08-31|\n",
            "|         US|   16543871|R32KMAPNV5NJPJ|B00S3LJ5EA|     659360184|Kingvom 8gb 50 Ho...|     Electronics|          5|            0|          0|   N|                Y|          Five Stars|everything I expe...| 2015-08-31|\n",
            "|         US|   38472651| RC7VLPHUT6UAF|B00B5QNGN6|     564421014|JBL Ultra-Portabl...|     Electronics|          5|            0|          0|   N|                Y|          Five Stars|Love this small s...| 2015-08-31|\n",
            "|         US|   26946211|R3G1II8P4KGUAR|B00PLE8QF6|     685446417|YIPBOWPT Surface ...|     Electronics|          5|            0|          0|   N|                Y|       great product|works as advertis...| 2015-08-31|\n",
            "|         US|   10195727|R1UBFCBUALL6S5|B00GHUSIU6|     595255086|StarTech.com Mini...|     Electronics|          5|            0|          0|   N|                Y|          Five Stars|very good especia...| 2015-08-31|\n",
            "|         US|   47386264|R1WI5NISM6GAUG|B0045EJY90|     892920832|TEAC CD-P650-B Co...|     Electronics|          2|            4|          5|   N|                Y|It does not copy ...|It does not copy ...| 2015-08-31|\n",
            "|         US|   13000908|R27F4OF4BIA4LU|B003BT6BM8|     631236454|Philips SHS8100/2...|     Electronics|          2|            1|          1|   N|                Y|Did not last long...|Did not last long...| 2015-08-31|\n",
            "+-----------+-----------+--------------+----------+--------------+--------------------+----------------+-----------+-------------+-----------+----+-----------------+--------------------+--------------------+-----------+\n",
            "only showing top 20 rows\n",
            "\n"
          ]
        }
      ]
    },
    {
      "cell_type": "code",
      "source": [
        "# filter DataFrame for total_votes above or equal to 20\n",
        "df20= df.filter(df.total_votes >= 20)\n",
        "df20.show()"
      ],
      "metadata": {
        "colab": {
          "base_uri": "https://localhost:8080/"
        },
        "id": "ZICi2v_gRJLY",
        "outputId": "85806053-39a9-468e-85cd-bf329b909612"
      },
      "execution_count": 6,
      "outputs": [
        {
          "output_type": "stream",
          "name": "stdout",
          "text": [
            "+-----------+-----------+--------------+----------+--------------+--------------------+----------------+-----------+-------------+-----------+----+-----------------+--------------------+--------------------+-----------+\n",
            "|marketplace|customer_id|     review_id|product_id|product_parent|       product_title|product_category|star_rating|helpful_votes|total_votes|vine|verified_purchase|     review_headline|         review_body|review_date|\n",
            "+-----------+-----------+--------------+----------+--------------+--------------------+----------------+-----------+-------------+-----------+----+-----------------+--------------------+--------------------+-----------+\n",
            "|         US|   14380991|R1FBO737KD9F2N|B00NG57H4S|     213020860|Sony MDRZX110 Noi...|     Electronics|          5|           19|         23|   N|                Y|Great noise cance...|Great pair of hea...| 2015-08-31|\n",
            "|         US|   51242401|R227GSNWI6BSZV|B00ICNXESC|     111052608|GS Portalac PX120...|     Electronics|          1|           20|         20|   N|                Y|Garbage, lasted 8...|I bought this as ...| 2015-08-31|\n",
            "|         US|    8464339|R3SJTYZBYBG4EE|B00L108SAW|      95420273|Nitecore D4 Smart...|     Electronics|          4|           99|         99|   N|                Y|Very good charger...|Here’s the quicki...| 2015-08-31|\n",
            "|         US|   49422039|R248FG65D76D5Y|B00870ZLJ0|     572574607|AmazonBasics High...|     Electronics|          1|           42|         53|   N|                Y|            One Star|Second time I pur...| 2015-08-31|\n",
            "|         US|   53003148|R3B6BXFKGW52SG|B00L2CK758|     293737333|Kingzer Top Incep...|     Electronics|          1|           32|         32|   N|                Y|Not what it says ...|The headline for ...| 2015-08-31|\n",
            "|         US|   23904525| ROTIV4VYL31R4|B00I482KZI|     891566887|enKo products HDM...|     Electronics|          5|           26|         26|   N|                Y|Great adaptor for...|Ok,from what I've...| 2015-08-31|\n",
            "|         US|   51258332|R3VQ59LD2LSKY7|B00YMN6E7O|     750699576|Yamaha RX-A2050 9...|     Electronics|          5|           20|         25|   N|                Y|... from a Yamaha...|I'm upgrading fro...| 2015-08-31|\n",
            "|         US|   45413169| RIIGLD8JB7PX8|B003WGRUQQ|     332910155|Electrohome EAAC6...|     Electronics|          1|           32|         35|   N|                Y|         Malfunction|Malfunction..... ...| 2015-08-31|\n",
            "|         US|   12515906|R3MUBV21QV0IJK|B00TP1C1UC|     156534786|AmazonBasics 6-Ou...|     Electronics|          3|           77|         84|   N|                Y|Some disassembly ...|I noticed a small...| 2015-08-31|\n",
            "|         US|   14309542|R1V5W0X6BKIJYA|B00IUUN6L2|     331100546|Universal TV Stan...|     Electronics|          5|          129|        132|   N|                Y|Great product and...|I ordered this pr...| 2015-08-31|\n",
            "|         US|   17298259|R274AKHXHYGIN6|B00X69BUSI|     314540276|iHome Color Chang...|     Electronics|          5|           87|        100|   N|                N|  Great Alarm Clock!|For many many yea...| 2015-08-31|\n",
            "|         US|   36356690|R184FOUNZZ7KO8|B0117RFX38|     294335899|Bose SoundTrue Ar...|     Electronics|          5|           15|         20|   Y|                N|Transparent - Mus...|When I see the Bo...| 2015-08-31|\n",
            "|         US|   19397215| RVSZIYT9NB29U|B00C402ZYS|     776423002|Bluetooth 5.25\" I...|     Electronics|          5|           22|         46|   N|                Y|Wonderful for out...|Great outside spe...| 2015-08-31|\n",
            "|         US|   20926319|R1RDAOSARQUVFJ|B011JAH5KW|     844047695|Sonos 5.1 Home Th...|     Electronics|          2|            6|         26|   N|                N|Overpriced and un...|The sonos 5.1 sou...| 2015-08-31|\n",
            "|         US|   40053317| R88RERIQDYDT5|B011SLD1NC|     379220827|Apple iPod Touch ...|     Electronics|          2|           17|         26|   N|                N|Good Product, cra...|First of all, any...| 2015-08-31|\n",
            "|         US|   17993172| RLYK7DY9F6RUP|B005SUM1PO|     846365513|Sewell Direct Lun...|     Electronics|          4|           17|         20|   N|                Y|       Does the job!|I bought this to ...| 2015-08-31|\n",
            "|         US|   38916196|R3T31I7IKQ5LFQ|B00AXVWNGA|     832088064|[Black + MHL Gend...|     Electronics|          3|           52|         55|   N|                Y|One of the best H...|Update 11/16/2016...| 2015-08-31|\n",
            "|         US|    3116782| RZETLPHZJFYB8|B00M3NZKA2|     323890891|Sennheiser Urbani...|     Electronics|          5|           23|         24|   N|                Y|In-depth comparis...|TL;DR<br /> - I o...| 2015-08-31|\n",
            "|         US|   24133606|R1BG5NL9AX68QE|B00JRD13T8|     634946096|Sony Extra Bass E...|     Electronics|          1|           23|         29|   N|                Y|Fakes are horribl...|***knockoff alert...| 2015-08-31|\n",
            "|         US|   17993172|R1Y05HDL2AWCSA|B00ILCS182|     578563705|Yamaha RX-V677 7....|     Electronics|          5|          140|        145|   N|                Y|Outstanding recei...|When I set out to...| 2015-08-31|\n",
            "+-----------+-----------+--------------+----------+--------------+--------------------+----------------+-----------+-------------+-----------+----+-----------------+--------------------+--------------------+-----------+\n",
            "only showing top 20 rows\n",
            "\n"
          ]
        }
      ]
    },
    {
      "cell_type": "code",
      "source": [
        "#Filter the new DataFrame or table created in Step 1 and create a new DataFrame or table to retrieve all the rows where the number of helpful_votes divided by total_votes is equal to or greater than 50%.\n",
        "helpful_df = df20.filter((df20.helpful_votes/df20.total_votes)>= 0.5)\n",
        "helpful_df.show()"
      ],
      "metadata": {
        "colab": {
          "base_uri": "https://localhost:8080/"
        },
        "id": "TVJQFuuDRwqT",
        "outputId": "72bbdc85-4d8a-416c-a411-f4d925953d33"
      },
      "execution_count": 9,
      "outputs": [
        {
          "output_type": "stream",
          "name": "stdout",
          "text": [
            "+-----------+-----------+--------------+----------+--------------+--------------------+----------------+-----------+-------------+-----------+----+-----------------+--------------------+--------------------+-----------+\n",
            "|marketplace|customer_id|     review_id|product_id|product_parent|       product_title|product_category|star_rating|helpful_votes|total_votes|vine|verified_purchase|     review_headline|         review_body|review_date|\n",
            "+-----------+-----------+--------------+----------+--------------+--------------------+----------------+-----------+-------------+-----------+----+-----------------+--------------------+--------------------+-----------+\n",
            "|         US|   14380991|R1FBO737KD9F2N|B00NG57H4S|     213020860|Sony MDRZX110 Noi...|     Electronics|          5|           19|         23|   N|                Y|Great noise cance...|Great pair of hea...| 2015-08-31|\n",
            "|         US|   51242401|R227GSNWI6BSZV|B00ICNXESC|     111052608|GS Portalac PX120...|     Electronics|          1|           20|         20|   N|                Y|Garbage, lasted 8...|I bought this as ...| 2015-08-31|\n",
            "|         US|    8464339|R3SJTYZBYBG4EE|B00L108SAW|      95420273|Nitecore D4 Smart...|     Electronics|          4|           99|         99|   N|                Y|Very good charger...|Here’s the quicki...| 2015-08-31|\n",
            "|         US|   49422039|R248FG65D76D5Y|B00870ZLJ0|     572574607|AmazonBasics High...|     Electronics|          1|           42|         53|   N|                Y|            One Star|Second time I pur...| 2015-08-31|\n",
            "|         US|   53003148|R3B6BXFKGW52SG|B00L2CK758|     293737333|Kingzer Top Incep...|     Electronics|          1|           32|         32|   N|                Y|Not what it says ...|The headline for ...| 2015-08-31|\n",
            "|         US|   23904525| ROTIV4VYL31R4|B00I482KZI|     891566887|enKo products HDM...|     Electronics|          5|           26|         26|   N|                Y|Great adaptor for...|Ok,from what I've...| 2015-08-31|\n",
            "|         US|   51258332|R3VQ59LD2LSKY7|B00YMN6E7O|     750699576|Yamaha RX-A2050 9...|     Electronics|          5|           20|         25|   N|                Y|... from a Yamaha...|I'm upgrading fro...| 2015-08-31|\n",
            "|         US|   45413169| RIIGLD8JB7PX8|B003WGRUQQ|     332910155|Electrohome EAAC6...|     Electronics|          1|           32|         35|   N|                Y|         Malfunction|Malfunction..... ...| 2015-08-31|\n",
            "|         US|   12515906|R3MUBV21QV0IJK|B00TP1C1UC|     156534786|AmazonBasics 6-Ou...|     Electronics|          3|           77|         84|   N|                Y|Some disassembly ...|I noticed a small...| 2015-08-31|\n",
            "|         US|   14309542|R1V5W0X6BKIJYA|B00IUUN6L2|     331100546|Universal TV Stan...|     Electronics|          5|          129|        132|   N|                Y|Great product and...|I ordered this pr...| 2015-08-31|\n",
            "|         US|   17298259|R274AKHXHYGIN6|B00X69BUSI|     314540276|iHome Color Chang...|     Electronics|          5|           87|        100|   N|                N|  Great Alarm Clock!|For many many yea...| 2015-08-31|\n",
            "|         US|   36356690|R184FOUNZZ7KO8|B0117RFX38|     294335899|Bose SoundTrue Ar...|     Electronics|          5|           15|         20|   Y|                N|Transparent - Mus...|When I see the Bo...| 2015-08-31|\n",
            "|         US|   40053317| R88RERIQDYDT5|B011SLD1NC|     379220827|Apple iPod Touch ...|     Electronics|          2|           17|         26|   N|                N|Good Product, cra...|First of all, any...| 2015-08-31|\n",
            "|         US|   17993172| RLYK7DY9F6RUP|B005SUM1PO|     846365513|Sewell Direct Lun...|     Electronics|          4|           17|         20|   N|                Y|       Does the job!|I bought this to ...| 2015-08-31|\n",
            "|         US|   38916196|R3T31I7IKQ5LFQ|B00AXVWNGA|     832088064|[Black + MHL Gend...|     Electronics|          3|           52|         55|   N|                Y|One of the best H...|Update 11/16/2016...| 2015-08-31|\n",
            "|         US|    3116782| RZETLPHZJFYB8|B00M3NZKA2|     323890891|Sennheiser Urbani...|     Electronics|          5|           23|         24|   N|                Y|In-depth comparis...|TL;DR<br /> - I o...| 2015-08-31|\n",
            "|         US|   24133606|R1BG5NL9AX68QE|B00JRD13T8|     634946096|Sony Extra Bass E...|     Electronics|          1|           23|         29|   N|                Y|Fakes are horribl...|***knockoff alert...| 2015-08-31|\n",
            "|         US|   17993172|R1Y05HDL2AWCSA|B00ILCS182|     578563705|Yamaha RX-V677 7....|     Electronics|          5|          140|        145|   N|                Y|Outstanding recei...|When I set out to...| 2015-08-31|\n",
            "|         US|   47222116|R20EPERDBI56K8|B00XA0UX2W|     386880249|1byone Outdoor TV...|     Electronics|          1|           30|         37|   N|                Y|DON'T BUY THIS AN...|I purchased this ...| 2015-08-30|\n",
            "|         US|   46211392| RPTN47ZNQBPWE|B00YMN6EOM|     550798604|Yamaha RX-A3050 9...|     Electronics|          5|           20|         24|   N|                Y|First of all it h...|Ive had the 3050 ...| 2015-08-30|\n",
            "+-----------+-----------+--------------+----------+--------------+--------------------+----------------+-----------+-------------+-----------+----+-----------------+--------------------+--------------------+-----------+\n",
            "only showing top 20 rows\n",
            "\n"
          ]
        }
      ]
    },
    {
      "cell_type": "code",
      "source": [
        "#Filter the DataFrame or table created in Step 2, and create a new DataFrame or table that retrieves all the rows where a review was written as part of the Vine program (paid), vine == 'Y'.\n",
        "paid_df= helpful_df.filter(helpful_df.vine=='Y')\n",
        "paid_df.show()"
      ],
      "metadata": {
        "colab": {
          "base_uri": "https://localhost:8080/"
        },
        "id": "RsAzIV4KSZpr",
        "outputId": "ab3d206c-fb7d-4bdb-d0f5-a452c5029a18"
      },
      "execution_count": 11,
      "outputs": [
        {
          "output_type": "stream",
          "name": "stdout",
          "text": [
            "+-----------+-----------+--------------+----------+--------------+--------------------+----------------+-----------+-------------+-----------+----+-----------------+--------------------+--------------------+-----------+\n",
            "|marketplace|customer_id|     review_id|product_id|product_parent|       product_title|product_category|star_rating|helpful_votes|total_votes|vine|verified_purchase|     review_headline|         review_body|review_date|\n",
            "+-----------+-----------+--------------+----------+--------------+--------------------+----------------+-----------+-------------+-----------+----+-----------------+--------------------+--------------------+-----------+\n",
            "|         US|   36356690|R184FOUNZZ7KO8|B0117RFX38|     294335899|Bose SoundTrue Ar...|     Electronics|          5|           15|         20|   Y|                N|Transparent - Mus...|When I see the Bo...| 2015-08-31|\n",
            "|         US|   37291590| R82QWN2X2OCHB|B0117RGG8E|     871919611|Bose SoundLink ar...|     Electronics|          5|          176|        208|   Y|                N|Outstanding Bluet...|For purposes of f...| 2015-08-30|\n",
            "|         US|   53030638|R1UYHBYE6790BU|B00TP1C1UC|     156534786|AmazonBasics 6-Ou...|     Electronics|          5|           44|         53|   Y|                N|Nicely designed, ...|I got this from t...| 2015-08-28|\n",
            "|         US|   50672825|R2J3YLX1L4EH2B|B012B7S46Q|     342209069|Bose Solo 15 Seri...|     Electronics|          5|          299|        321|   Y|                N|Great sound, simp...|This a review of ...| 2015-08-26|\n",
            "|         US|   52563108|R3QDI539WTXKE2|B00TTWZ9VU|     772792073|Sony SRSX77 Power...|     Electronics|          5|           26|         32|   Y|                N|Big sound, flexib...|This is a review ...| 2015-08-23|\n",
            "|         US|   49737329| RQTPWY6ND2NRV|B00VY9LCIA|     344025263|Philips Kids Head...|     Electronics|          4|           37|         37|   Y|                N|Best sounding kid...|So I have three k...| 2015-08-22|\n",
            "|         US|   42525878| RQZSTE0KOBY2G|B00TP1C51M|     156534786|AmazonBasics 6-Ou...|     Electronics|          4|           98|        109|   Y|                N|Minimal protectio...|The AmazonBasics ...| 2015-08-20|\n",
            "|         US|   50888291| RF2RNZEJO0K1N|B00UNDES84|     809037577|iHome Portable US...|     Electronics|          4|           23|         26|   Y|                N|Compared to the E...|I purchased the c...| 2015-08-18|\n",
            "|         US|   47930240| ROB6VOW41E8O5|B012B7S46Q|     342209069|Bose Solo 15 Seri...|     Electronics|          4|          155|        172|   Y|                N|Bose does it agai...|PROS:<br />Major ...| 2015-08-17|\n",
            "|         US|   51094564|R3ASMXPEPYY28T|B012B7S46Q|     342209069|Bose Solo 15 Seri...|     Electronics|          3|           11|         20|   Y|                N|an improvement ov...|I requested the B...| 2015-08-13|\n",
            "|         US|   52368641|R1PSDADBJRKB7N|B012B7S46Q|     342209069|Bose Solo 15 Seri...|     Electronics|          5|          215|        234|   Y|                N| A Pleasant Surprise|[Please also see ...| 2015-08-11|\n",
            "|         US|   48198113|R379PSH3FBB6CG|B00UNDEKWI|     824863571|Timex AM/ FM Dual...|     Electronics|          5|           22|         26|   Y|                N|Inexpensive Quali...|I love the big nu...| 2015-08-09|\n",
            "|         US|   42430196| R4TBG0DR9Q3R2|B00UNDEKWI|     824863571|Timex AM/ FM Dual...|     Electronics|          4|           27|         35|   Y|                N|It works great, o...|The clock is nice...| 2015-08-07|\n",
            "|         US|   52421866|R3LFHK362GJ77T|B00C19125A|     369941789|Panasonic Best in...|     Electronics|          4|           31|         33|   Y|                N|Good noise cancel...|I'm a little perp...| 2015-08-06|\n",
            "|         US|   48393616|R1GB60TUTJB5HP|B00UNDES84|     809037577|iHome Portable US...|     Electronics|          5|           41|         45|   Y|                N|Packs a big punch...|[[VIDEOID:dca0369...| 2015-08-03|\n",
            "|         US|   48393616|R2471U9VXGOMON|B00UNDEKWI|     824863571|Timex AM/ FM Dual...|     Electronics|          4|          197|        206|   Y|                N|Alarm clock inclu...|[[VIDEOID:5e156d4...| 2015-07-30|\n",
            "|         US|   25328888|R24N1S9H53A8QR|B00WTQEZBI|     282521609|Yamaha YAS-105 So...|     Electronics|          5|           64|         70|   Y|                N|Great Sound, Low ...|The Yamaha Sound ...| 2015-07-30|\n",
            "|         US|   26841857|R2S4BSWNHNX2GG|B00UNDEKWI|     824863571|Timex AM/ FM Dual...|     Electronics|          5|           54|         61|   Y|                N|Compact, ready to...|This is a very co...| 2015-07-29|\n",
            "|         US|   51284509|R36FG1XJKLAK36|B00UNDEKWI|     824863571|Timex AM/ FM Dual...|     Electronics|          5|           23|         27|   Y|                N|        Good product|Another reviewer ...| 2015-07-28|\n",
            "|         US|   52662237|R2ENZ835SOCA46|B00XZ42HBI|     251744568|Gibson Trainer Sp...|     Electronics|          4|           26|         30|   Y|                N|Great sound.  But...|I have a lot of r...| 2015-07-26|\n",
            "+-----------+-----------+--------------+----------+--------------+--------------------+----------------+-----------+-------------+-----------+----+-----------------+--------------------+--------------------+-----------+\n",
            "only showing top 20 rows\n",
            "\n"
          ]
        }
      ]
    },
    {
      "cell_type": "code",
      "source": [
        "unpaid_df= helpful_df.filter(helpful_df.vine=='N')\n",
        "unpaid_df.show()"
      ],
      "metadata": {
        "colab": {
          "base_uri": "https://localhost:8080/"
        },
        "id": "FRaqKf29S3E3",
        "outputId": "a67a12f3-8220-473a-c4c8-74cf013cf28b"
      },
      "execution_count": 12,
      "outputs": [
        {
          "output_type": "stream",
          "name": "stdout",
          "text": [
            "+-----------+-----------+--------------+----------+--------------+--------------------+----------------+-----------+-------------+-----------+----+-----------------+--------------------+--------------------+-----------+\n",
            "|marketplace|customer_id|     review_id|product_id|product_parent|       product_title|product_category|star_rating|helpful_votes|total_votes|vine|verified_purchase|     review_headline|         review_body|review_date|\n",
            "+-----------+-----------+--------------+----------+--------------+--------------------+----------------+-----------+-------------+-----------+----+-----------------+--------------------+--------------------+-----------+\n",
            "|         US|   14380991|R1FBO737KD9F2N|B00NG57H4S|     213020860|Sony MDRZX110 Noi...|     Electronics|          5|           19|         23|   N|                Y|Great noise cance...|Great pair of hea...| 2015-08-31|\n",
            "|         US|   51242401|R227GSNWI6BSZV|B00ICNXESC|     111052608|GS Portalac PX120...|     Electronics|          1|           20|         20|   N|                Y|Garbage, lasted 8...|I bought this as ...| 2015-08-31|\n",
            "|         US|    8464339|R3SJTYZBYBG4EE|B00L108SAW|      95420273|Nitecore D4 Smart...|     Electronics|          4|           99|         99|   N|                Y|Very good charger...|Here’s the quicki...| 2015-08-31|\n",
            "|         US|   49422039|R248FG65D76D5Y|B00870ZLJ0|     572574607|AmazonBasics High...|     Electronics|          1|           42|         53|   N|                Y|            One Star|Second time I pur...| 2015-08-31|\n",
            "|         US|   53003148|R3B6BXFKGW52SG|B00L2CK758|     293737333|Kingzer Top Incep...|     Electronics|          1|           32|         32|   N|                Y|Not what it says ...|The headline for ...| 2015-08-31|\n",
            "|         US|   23904525| ROTIV4VYL31R4|B00I482KZI|     891566887|enKo products HDM...|     Electronics|          5|           26|         26|   N|                Y|Great adaptor for...|Ok,from what I've...| 2015-08-31|\n",
            "|         US|   51258332|R3VQ59LD2LSKY7|B00YMN6E7O|     750699576|Yamaha RX-A2050 9...|     Electronics|          5|           20|         25|   N|                Y|... from a Yamaha...|I'm upgrading fro...| 2015-08-31|\n",
            "|         US|   45413169| RIIGLD8JB7PX8|B003WGRUQQ|     332910155|Electrohome EAAC6...|     Electronics|          1|           32|         35|   N|                Y|         Malfunction|Malfunction..... ...| 2015-08-31|\n",
            "|         US|   12515906|R3MUBV21QV0IJK|B00TP1C1UC|     156534786|AmazonBasics 6-Ou...|     Electronics|          3|           77|         84|   N|                Y|Some disassembly ...|I noticed a small...| 2015-08-31|\n",
            "|         US|   14309542|R1V5W0X6BKIJYA|B00IUUN6L2|     331100546|Universal TV Stan...|     Electronics|          5|          129|        132|   N|                Y|Great product and...|I ordered this pr...| 2015-08-31|\n",
            "|         US|   17298259|R274AKHXHYGIN6|B00X69BUSI|     314540276|iHome Color Chang...|     Electronics|          5|           87|        100|   N|                N|  Great Alarm Clock!|For many many yea...| 2015-08-31|\n",
            "|         US|   40053317| R88RERIQDYDT5|B011SLD1NC|     379220827|Apple iPod Touch ...|     Electronics|          2|           17|         26|   N|                N|Good Product, cra...|First of all, any...| 2015-08-31|\n",
            "|         US|   17993172| RLYK7DY9F6RUP|B005SUM1PO|     846365513|Sewell Direct Lun...|     Electronics|          4|           17|         20|   N|                Y|       Does the job!|I bought this to ...| 2015-08-31|\n",
            "|         US|   38916196|R3T31I7IKQ5LFQ|B00AXVWNGA|     832088064|[Black + MHL Gend...|     Electronics|          3|           52|         55|   N|                Y|One of the best H...|Update 11/16/2016...| 2015-08-31|\n",
            "|         US|    3116782| RZETLPHZJFYB8|B00M3NZKA2|     323890891|Sennheiser Urbani...|     Electronics|          5|           23|         24|   N|                Y|In-depth comparis...|TL;DR<br /> - I o...| 2015-08-31|\n",
            "|         US|   24133606|R1BG5NL9AX68QE|B00JRD13T8|     634946096|Sony Extra Bass E...|     Electronics|          1|           23|         29|   N|                Y|Fakes are horribl...|***knockoff alert...| 2015-08-31|\n",
            "|         US|   17993172|R1Y05HDL2AWCSA|B00ILCS182|     578563705|Yamaha RX-V677 7....|     Electronics|          5|          140|        145|   N|                Y|Outstanding recei...|When I set out to...| 2015-08-31|\n",
            "|         US|   47222116|R20EPERDBI56K8|B00XA0UX2W|     386880249|1byone Outdoor TV...|     Electronics|          1|           30|         37|   N|                Y|DON'T BUY THIS AN...|I purchased this ...| 2015-08-30|\n",
            "|         US|   46211392| RPTN47ZNQBPWE|B00YMN6EOM|     550798604|Yamaha RX-A3050 9...|     Electronics|          5|           20|         24|   N|                Y|First of all it h...|Ive had the 3050 ...| 2015-08-30|\n",
            "|         US|   48449361|R3VJ8U3A8MT8II|B00O2M7N48|     133334658|Marathon HDTV Lon...|     Electronics|          5|           17|         21|   N|                Y|For the 1st time ...|Because we live i...| 2015-08-30|\n",
            "+-----------+-----------+--------------+----------+--------------+--------------------+----------------+-----------+-------------+-----------+----+-----------------+--------------------+--------------------+-----------+\n",
            "only showing top 20 rows\n",
            "\n"
          ]
        }
      ]
    },
    {
      "cell_type": "code",
      "source": [
        "#Determine the total number of reviews, the number of 5-star reviews, and the percentage of 5-star reviews for the two types of review (paid vs unpaid).\n",
        "#count of paid revies\n",
        "total_paid_reviews= paid_df.count()\n",
        "total_paid_reviews"
      ],
      "metadata": {
        "colab": {
          "base_uri": "https://localhost:8080/"
        },
        "id": "zmRwb7JiS9kE",
        "outputId": "ec26b442-835c-4f37-cafc-e170a01967ef"
      },
      "execution_count": 13,
      "outputs": [
        {
          "output_type": "execute_result",
          "data": {
            "text/plain": [
              "1080"
            ]
          },
          "metadata": {},
          "execution_count": 13
        }
      ]
    },
    {
      "cell_type": "code",
      "source": [
        "#count of unpaid reviews\n",
        "total_unpaid_reviews= unpaid_df.count()\n",
        "total_unpaid_reviews"
      ],
      "metadata": {
        "colab": {
          "base_uri": "https://localhost:8080/"
        },
        "id": "2xiFreK5TTFo",
        "outputId": "0f920584-515f-4385-fd1b-7f0ada87fd10"
      },
      "execution_count": 14,
      "outputs": [
        {
          "output_type": "execute_result",
          "data": {
            "text/plain": [
              "49673"
            ]
          },
          "metadata": {},
          "execution_count": 14
        }
      ]
    },
    {
      "cell_type": "code",
      "source": [
        "#total reviews\n",
        "total_reviews= total_paid_reviews + total_unpaid_reviews\n",
        "total_reviews"
      ],
      "metadata": {
        "colab": {
          "base_uri": "https://localhost:8080/"
        },
        "id": "N7odAQcGTeTd",
        "outputId": "0a59b336-8d80-44fb-b405-0ceaceb58fdb"
      },
      "execution_count": 16,
      "outputs": [
        {
          "output_type": "execute_result",
          "data": {
            "text/plain": [
              "50753"
            ]
          },
          "metadata": {},
          "execution_count": 16
        }
      ]
    },
    {
      "cell_type": "code",
      "source": [
        "# of 5 star paid\n",
        "total_paid_5_reviews = paid_df.filter(paid_df.star_rating=='5').count()\n",
        "total_paid_5_reviews"
      ],
      "metadata": {
        "colab": {
          "base_uri": "https://localhost:8080/"
        },
        "id": "tT8DRzpkTnAi",
        "outputId": "68c32dfe-3358-4507-965f-bda14f8e9732"
      },
      "execution_count": 18,
      "outputs": [
        {
          "output_type": "execute_result",
          "data": {
            "text/plain": [
              "454"
            ]
          },
          "metadata": {},
          "execution_count": 18
        }
      ]
    },
    {
      "cell_type": "code",
      "source": [
        "# of 5 star unpaid\n",
        "total_unpaid_5_reviews = unpaid_df.filter(unpaid_df.star_rating=='5').count()\n",
        "total_unpaid_5_reviews"
      ],
      "metadata": {
        "colab": {
          "base_uri": "https://localhost:8080/"
        },
        "id": "hN8H4mJ_UGtw",
        "outputId": "55c354c6-7c1c-46d5-8d5d-23dfda1d73ff"
      },
      "execution_count": 19,
      "outputs": [
        {
          "output_type": "execute_result",
          "data": {
            "text/plain": [
              "23043"
            ]
          },
          "metadata": {},
          "execution_count": 19
        }
      ]
    },
    {
      "cell_type": "code",
      "source": [
        "total_5_review_count= total_paid_5_reviews + total_unpaid_5_reviews\n",
        "total_5_review_count"
      ],
      "metadata": {
        "colab": {
          "base_uri": "https://localhost:8080/"
        },
        "id": "GfIHIfsRUkLy",
        "outputId": "c222f027-ed3c-4a10-b9e8-e2e53a3ba262"
      },
      "execution_count": 22,
      "outputs": [
        {
          "output_type": "execute_result",
          "data": {
            "text/plain": [
              "23497"
            ]
          },
          "metadata": {},
          "execution_count": 22
        }
      ]
    },
    {
      "cell_type": "code",
      "source": [
        "# % of paid 5 stars\n",
        "\n",
        "percent_paid = (total_paid_5_reviews/total_5_review_count)*100\n",
        "percent_paid"
      ],
      "metadata": {
        "colab": {
          "base_uri": "https://localhost:8080/"
        },
        "id": "BzHPIZHPUP-b",
        "outputId": "1123b8e4-921d-4f22-9172-5387622a7b1f"
      },
      "execution_count": 27,
      "outputs": [
        {
          "output_type": "execute_result",
          "data": {
            "text/plain": [
              "1.9321615525386222"
            ]
          },
          "metadata": {},
          "execution_count": 27
        }
      ]
    },
    {
      "cell_type": "code",
      "source": [
        "# % of unpaid 5 stars\n",
        "\n",
        "percent_unpaid = (total_unpaid_5_reviews/total_5_review_count)*100\n",
        "percent_unpaid"
      ],
      "metadata": {
        "colab": {
          "base_uri": "https://localhost:8080/"
        },
        "id": "r34pm5msU57d",
        "outputId": "c04a164c-9b6f-4ebf-c240-ba0fbc87f28b"
      },
      "execution_count": 29,
      "outputs": [
        {
          "output_type": "execute_result",
          "data": {
            "text/plain": [
              "98.06783844746137"
            ]
          },
          "metadata": {},
          "execution_count": 29
        }
      ]
    }
  ]
}